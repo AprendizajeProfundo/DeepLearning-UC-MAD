{
 "cells": [
  {
   "cell_type": "markdown",
   "id": "25ab8ef8-aefb-4aca-80cc-3948764c3fbc",
   "metadata": {
    "slideshow": {
     "slide_type": "slide"
    },
    "tags": []
   },
   "source": [
    "<figure>\n",
    "<img src=\"../imagenes/logo-final-ap.png\"  width=\"80\" height=\"80\" align=\"left\"/> \n",
    "</figure>\n",
    "\n",
    "# <span style=\"color:#4361EE\"><left>Aprendizaje Profundo</left></span>"
   ]
  },
  {
   "cell_type": "markdown",
   "id": "f190fe52-862d-4d88-b054-28063e23cc97",
   "metadata": {},
   "source": [
    "# <span style=\"color:red\"><center>Electiva Deep Learning Universidad Central</center></span>"
   ]
  },
  {
   "cell_type": "markdown",
   "id": "f664b4c9-e5d9-4578-8007-8dbb1124180c",
   "metadata": {},
   "source": [
    "## <span style=\"color:green\"><center>Métodos de Regularizción<center></span>"
   ]
  },
  {
   "cell_type": "markdown",
   "id": "be5a2e91-9109-445f-b3c6-24c205f1f802",
   "metadata": {
    "slideshow": {
     "slide_type": "slide"
    },
    "tags": []
   },
   "source": [
    "<figure>\n",
    "<center>\n",
    "<img src=\"../imagenes/ai-in-education.jpg\" width=\"800\" height=\"800\" align=\"center\" /> \n",
    "</center>   \n",
    "</figure>\n",
    "\n",
    "Fuente: [Unesco: educación e inteligencia artificial](https://es.unesco.org/themes/tic-educacion/inteligencia-artificial)"
   ]
  },
  {
   "cell_type": "markdown",
   "id": "e37c5197-26ea-432b-8fb6-f8b226a8dc95",
   "metadata": {
    "slideshow": {
     "slide_type": "slide"
    },
    "tags": []
   },
   "source": [
    "## <span style=\"color:#4361EE\">Profesores</span>"
   ]
  },
  {
   "cell_type": "markdown",
   "id": "9380b0a8-1099-4bca-9349-e420b81944a6",
   "metadata": {},
   "source": [
    "1. Alvaro  Montenegro, PhD, ammontenegrod@unal.edu.co\n",
    "1. Camilo José Torres Jiménez, Msc, cjtorresj@unal.edu.co\n",
    "1. Daniel  Montenegro, Msc, dextronomo@gmail.com "
   ]
  },
  {
   "cell_type": "markdown",
   "id": "274d720a-c51c-4a98-9f92-095eaf847e2b",
   "metadata": {
    "slideshow": {
     "slide_type": "subslide"
    },
    "tags": []
   },
   "source": [
    "## <span style=\"color:#4361EE\">Asesora Medios y Marketing digital</span>"
   ]
  },
  {
   "cell_type": "markdown",
   "id": "86c9404b-16ad-4478-a931-989a7aa7742b",
   "metadata": {},
   "source": [
    "4. Maria del Pilar Montenegro, pmontenegro88@gmail.com\n",
    "5. Jessica López Mejía, jelopezme@unal.edu.co"
   ]
  },
  {
   "cell_type": "markdown",
   "id": "c4f3fb55-e4af-4d4c-a093-22a45a69e584",
   "metadata": {
    "slideshow": {
     "slide_type": "subslide"
    },
    "tags": []
   },
   "source": [
    "## <span style=\"color:#4361EE\">Jefe Jurídica</span>"
   ]
  },
  {
   "cell_type": "markdown",
   "id": "54b5d09c-784d-4ea8-b3c6-4646202f8deb",
   "metadata": {},
   "source": [
    "6. Paula Andrea Guzmán, guzmancruz.paula@gmail.com"
   ]
  },
  {
   "cell_type": "markdown",
   "id": "51ab2317-6212-4cfc-bb5b-2657a24cfc84",
   "metadata": {
    "tags": []
   },
   "source": [
    "## <span style=\"color:#4361EE\">Coordinador Jurídico</span>"
   ]
  },
  {
   "cell_type": "markdown",
   "id": "b08bbf0b-0548-459a-83a7-310fb9f7baee",
   "metadata": {},
   "source": [
    "7. David Fuentes, fuentesd065@gmail.com"
   ]
  },
  {
   "cell_type": "markdown",
   "id": "00be9595-46b2-4620-ab04-a4171b62810a",
   "metadata": {
    "slideshow": {
     "slide_type": "subslide"
    },
    "tags": []
   },
   "source": [
    "## <span style=\"color:#4361EE\">Desarrolladores Principales</span>"
   ]
  },
  {
   "cell_type": "markdown",
   "id": "32fe96ba-41a1-4942-a5e4-1183661b19ff",
   "metadata": {},
   "source": [
    "8. Dairo Moreno, damoralesj@unal.edu.co\n",
    "9. Joan Castro, jocastroc@unal.edu.co\n",
    "10. Bryan Riveros, briveros@unal.edu.co\n",
    "11. Rosmer Vargas, rovargasc@unal.edu.co\n",
    "12. Venus Puertas, vpuertasg@unal.edu.co"
   ]
  },
  {
   "cell_type": "markdown",
   "id": "42d97f1d-b20d-41b5-9e3e-d4e8bc65809f",
   "metadata": {
    "slideshow": {
     "slide_type": "fragment"
    },
    "tags": []
   },
   "source": [
    "## <span style=\"color:#4361EE\">Expertos en Bases de Datos</span>"
   ]
  },
  {
   "cell_type": "markdown",
   "id": "dedff602-4160-4ee2-bc7a-4a954d743009",
   "metadata": {},
   "source": [
    "13. Giovvani Barrera, udgiovanni@gmail.com\n",
    "14. Camilo Chitivo, cchitivo@unal.edu.co"
   ]
  },
  {
   "cell_type": "markdown",
   "id": "a869268f-e669-484b-8b2c-55262c118ee0",
   "metadata": {
    "slideshow": {
     "slide_type": "slide"
    },
    "tags": []
   },
   "source": [
    "## <span style=\"color:#4361EE\">Referencias</span>"
   ]
  },
  {
   "cell_type": "markdown",
   "id": "45a2b4c3-32b0-4c5c-8ada-abddf040e5dd",
   "metadata": {},
   "source": [
    "1. [Alvaro Montenegro y Daniel Montenegro, Inteligencia Artificial y Aprendizaje Profundo, 2021](https://github.com/AprendizajeProfundo/Diplomado)\n",
    "1. [Unesco: educación e inteligencia artificial](https://es.unesco.org/themes/tic-educacion/inteligencia-artificial)"
   ]
  },
  {
   "cell_type": "markdown",
   "id": "b86b8ce9-0cec-46f7-83ac-ba83a07a0e06",
   "metadata": {
    "slideshow": {
     "slide_type": "slide"
    },
    "tags": []
   },
   "source": [
    "## <span style=\"color:#4361EE\">Contenido</span>"
   ]
  },
  {
   "cell_type": "markdown",
   "id": "51b9d9c8-0197-447f-ace7-f95b2e266e94",
   "metadata": {},
   "source": [
    "* [Introducción](#Introducción)\n",
    "* [Transformación digital](#Transformación-digital)\n",
    "* [Matemáticas](#Matemáticas)\n",
    "* [Transformación de problemas](#Transformación-de-problemas)\n",
    "* [Tecnologías para el trabajo en IA](#Tecnologías-para-el-trabajo-en-IA)\n",
    "* [El ciclo de la IA](#El-ciclo-de-la-IA)"
   ]
  },
  {
   "cell_type": "markdown",
   "id": "d6a09b4e-bfbd-4f55-b2d2-c3862e05cc0a",
   "metadata": {
    "slideshow": {
     "slide_type": "slide"
    },
    "tags": []
   },
   "source": [
    "## <span style=\"color:#4361EE\">Introducción</span>"
   ]
  },
  {
   "cell_type": "markdown",
   "id": "a39edd67-2e46-4dda-bfbf-359034e66ca2",
   "metadata": {},
   "source": [
    "Un problema universal en el aprendizaje automático ha sido crear un algoritmo que funcione igualmente bien con datos de entrenamiento y con cualquier muestra o **conjunto de datos de prueba** nuevos. Las técnicas utilizadas en el aprendizaje automático que han sido diseñadas específicamente para reducir los errores de prueba, principalmente a expensas de un mayor error de entrenamiento, se conocen globalmente como regularización."
   ]
  },
  {
   "cell_type": "markdown",
   "id": "d6542c4c-97b6-440e-addd-35c77542962c",
   "metadata": {
    "slideshow": {
     "slide_type": "slide"
    },
    "tags": []
   },
   "source": [
    "## <span style=\"color:#4361EE\">¿Qué es la regularización?</span>"
   ]
  },
  {
   "cell_type": "markdown",
   "id": "3aed85c2-ed8a-4483-a9b6-5028d18d5375",
   "metadata": {},
   "source": [
    "La regularización puede definirse como cualquier modificación o cambio en el algoritmo de aprendizaje que ayude a reducir su error en un conjunto de datos de prueba, comúnmente conocido como error de generalización, pero no en el conjunto de datos suministrado o de entrenamiento. \n",
    "\n",
    "En los algoritmos de aprendizaje, existen muchas variantes de técnicas de regularización, cada una de las cuales intenta responder a diferentes desafíos. Se pueden enumerar de forma sencilla en función del tipo de desafío que la técnica intenta abordar:\n",
    "\n",
    "- Algunas intentan poner restricciones adicionales al aprendizaje de un modelo de ML, como agregar restricciones en el rango/tipo de valores de parámetros.\n",
    "- Algunas agregan más términos en la función objetivo o de costo, como una restricción suave en los valores de los parámetros. La mayoría de las veces, una selección cuidadosa de las restricciones y penalizaciones correctas en la función de costo contribuye a un aumento masivo en el rendimiento del modelo, específicamente en el conjunto de datos de prueba.\n",
    "- Estos términos adicionales también se pueden codificar en función de alguna información previa que se relacione estrechamente con el conjunto de datos o el enunciado del problema.\n",
    "- Una de las técnicas de regularización más utilizadas es la creación de modelos de conjunto, que tienen en cuenta la decisión colectiva de múltiples modelos, cada uno entrenado con diferentes muestras de datos."
   ]
  },
  {
   "cell_type": "code",
   "execution_count": null,
   "id": "14dc57fb-df91-41b9-9046-cbc7ac5d349b",
   "metadata": {},
   "outputs": [],
   "source": []
  }
 ],
 "metadata": {
  "kernelspec": {
   "display_name": "Python 3 (ipykernel)",
   "language": "python",
   "name": "python3"
  },
  "language_info": {
   "codemirror_mode": {
    "name": "ipython",
    "version": 3
   },
   "file_extension": ".py",
   "mimetype": "text/x-python",
   "name": "python",
   "nbconvert_exporter": "python",
   "pygments_lexer": "ipython3",
   "version": "3.10.14"
  }
 },
 "nbformat": 4,
 "nbformat_minor": 5
}
